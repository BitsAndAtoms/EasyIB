{
 "cells": [
  {
   "cell_type": "code",
   "execution_count": 1,
   "source": [
    "import easyib"
   ],
   "outputs": [],
   "metadata": {}
  },
  {
   "cell_type": "code",
   "execution_count": 2,
   "source": [
    "api = easyib.REST()\n",
    "# default parameters: url=\"https://localhost:5000\", ssl=False\n",
    "# SSL warnings can be suppressed by setting up a SSL certificate, or type \"export PYTHONWARNINGS=\"ignore:Unverified HTTPS request\" in a shell"
   ],
   "outputs": [
    {
     "output_type": "stream",
     "name": "stderr",
     "text": [
      "/Users/j/Documents/miniforge3/lib/python3.9/site-packages/urllib3/connectionpool.py:1013: InsecureRequestWarning: Unverified HTTPS request is being made to host 'localhost'. Adding certificate verification is strongly advised. See: https://urllib3.readthedocs.io/en/1.26.x/advanced-usage.html#ssl-warnings\n",
      "  warnings.warn(\n"
     ]
    }
   ],
   "metadata": {}
  },
  {
   "cell_type": "code",
   "execution_count": 3,
   "source": [
    "api.get_bars(\"TSLA\")[\"data\"]"
   ],
   "outputs": [
    {
     "output_type": "stream",
     "name": "stderr",
     "text": [
      "/Users/j/Documents/miniforge3/lib/python3.9/site-packages/urllib3/connectionpool.py:1013: InsecureRequestWarning: Unverified HTTPS request is being made to host 'localhost'. Adding certificate verification is strongly advised. See: https://urllib3.readthedocs.io/en/1.26.x/advanced-usage.html#ssl-warnings\n",
      "  warnings.warn(\n",
      "/Users/j/Documents/miniforge3/lib/python3.9/site-packages/urllib3/connectionpool.py:1013: InsecureRequestWarning: Unverified HTTPS request is being made to host 'localhost'. Adding certificate verification is strongly advised. See: https://urllib3.readthedocs.io/en/1.26.x/advanced-usage.html#ssl-warnings\n",
      "  warnings.warn(\n"
     ]
    },
    {
     "output_type": "execute_result",
     "data": {
      "text/plain": [
       "[{'o': 718.59,\n",
       "  'c': 709.74,\n",
       "  'h': 722.65,\n",
       "  'l': 701.01,\n",
       "  'v': 134398,\n",
       "  't': 1627997400000},\n",
       " {'o': 711.24,\n",
       "  'c': 710.92,\n",
       "  'h': 724.9,\n",
       "  'l': 708.93,\n",
       "  'v': 100546,\n",
       "  't': 1628083800000},\n",
       " {'o': 715.88,\n",
       "  'c': 714.63,\n",
       "  'h': 720.95,\n",
       "  'l': 711.41,\n",
       "  'v': 76672,\n",
       "  't': 1628170200000},\n",
       " {'o': 711.71,\n",
       "  'c': 699.1,\n",
       "  'h': 716.33,\n",
       "  'l': 697.63,\n",
       "  'v': 85461,\n",
       "  't': 1628256600000}]"
      ]
     },
     "metadata": {},
     "execution_count": 3
    }
   ],
   "metadata": {}
  },
  {
   "cell_type": "code",
   "execution_count": 4,
   "source": [
    "list_of_orders = [\n",
    "    {\n",
    "        \"conid\": api.get_conid(\"TSLA\"),\n",
    "        \"orderType\": \"MKT\",\n",
    "        \"side\": \"BUY\",\n",
    "        \"quantity\": 6,\n",
    "        \"tif\": \"GTC\",\n",
    "    }\n",
    "]\n",
    "api.submit_orders(list_of_orders)\n"
   ],
   "outputs": [
    {
     "output_type": "stream",
     "name": "stderr",
     "text": [
      "/Users/j/Documents/miniforge3/lib/python3.9/site-packages/urllib3/connectionpool.py:1013: InsecureRequestWarning: Unverified HTTPS request is being made to host 'localhost'. Adding certificate verification is strongly advised. See: https://urllib3.readthedocs.io/en/1.26.x/advanced-usage.html#ssl-warnings\n",
      "  warnings.warn(\n",
      "/Users/j/Documents/miniforge3/lib/python3.9/site-packages/urllib3/connectionpool.py:1013: InsecureRequestWarning: Unverified HTTPS request is being made to host 'localhost'. Adding certificate verification is strongly advised. See: https://urllib3.readthedocs.io/en/1.26.x/advanced-usage.html#ssl-warnings\n",
      "  warnings.warn(\n"
     ]
    },
    {
     "output_type": "execute_result",
     "data": {
      "text/plain": [
       "{'order_id': '1258176648', 'order_status': 'PendingSubmit'}"
      ]
     },
     "metadata": {},
     "execution_count": 4
    }
   ],
   "metadata": {}
  },
  {
   "cell_type": "code",
   "execution_count": 5,
   "source": [
    "order = {\n",
    "    \"conid\": api.get_conid(\"TSLA\"),\n",
    "    \"orderType\": \"MKT\",\n",
    "    \"side\": \"BUY\",\n",
    "    \"quantity\": 7,\n",
    "    \"tif\": \"GTC\",\n",
    "}\n",
    "api.modify_order(1258176647,order)\n"
   ],
   "outputs": [
    {
     "output_type": "stream",
     "name": "stderr",
     "text": [
      "/Users/j/Documents/miniforge3/lib/python3.9/site-packages/urllib3/connectionpool.py:1013: InsecureRequestWarning: Unverified HTTPS request is being made to host 'localhost'. Adding certificate verification is strongly advised. See: https://urllib3.readthedocs.io/en/1.26.x/advanced-usage.html#ssl-warnings\n",
      "  warnings.warn(\n",
      "/Users/j/Documents/miniforge3/lib/python3.9/site-packages/urllib3/connectionpool.py:1013: InsecureRequestWarning: Unverified HTTPS request is being made to host 'localhost'. Adding certificate verification is strongly advised. See: https://urllib3.readthedocs.io/en/1.26.x/advanced-usage.html#ssl-warnings\n",
      "  warnings.warn(\n"
     ]
    },
    {
     "output_type": "execute_result",
     "data": {
      "text/plain": [
       "{'order_id': '1258176647', 'order_status': 'PendingSubmit'}"
      ]
     },
     "metadata": {},
     "execution_count": 5
    }
   ],
   "metadata": {}
  },
  {
   "cell_type": "code",
   "execution_count": 6,
   "source": [
    "api.get_order(1258176647)"
   ],
   "outputs": [
    {
     "output_type": "stream",
     "name": "stderr",
     "text": [
      "/Users/j/Documents/miniforge3/lib/python3.9/site-packages/urllib3/connectionpool.py:1013: InsecureRequestWarning: Unverified HTTPS request is being made to host 'localhost'. Adding certificate verification is strongly advised. See: https://urllib3.readthedocs.io/en/1.26.x/advanced-usage.html#ssl-warnings\n",
      "  warnings.warn(\n"
     ]
    },
    {
     "output_type": "execute_result",
     "data": {
      "text/plain": [
       "{'sub_type': None,\n",
       " 'request_id': '31733',\n",
       " 'order_id': 1258176647,\n",
       " 'conidex': '76792991',\n",
       " 'symbol': 'TSLA',\n",
       " 'side': 'B',\n",
       " 'contract_description_1': 'TSLA',\n",
       " 'listing_exchange': 'NASDAQ.NMS',\n",
       " 'option_acct': 'c',\n",
       " 'company_name': 'TESLA INC',\n",
       " 'size': '7',\n",
       " 'total_size': '7',\n",
       " 'currency': 'USD',\n",
       " 'account': 'DU2712010',\n",
       " 'order_type': 'MARKET',\n",
       " 'cum_fill': '0',\n",
       " 'order_status': 'PendingSubmit',\n",
       " 'order_status_description': 'Submitting Order...',\n",
       " 'tif': 'GTC',\n",
       " 'fg_color': '#000000',\n",
       " 'bg_color': '#3399CC',\n",
       " 'order_not_editable': False,\n",
       " 'editable_fields': '\\x1e',\n",
       " 'cannot_cancel_order': False,\n",
       " 'deactivate_order': False,\n",
       " 'sec_type': 'STK',\n",
       " 'available_chart_periods': '#R|1',\n",
       " 'order_description': 'Buy 7 Market GTC',\n",
       " 'order_description_with_contract': 'Buy 7 TSLA Market GTC',\n",
       " 'alert_active': 1,\n",
       " 'child_order_type': '3',\n",
       " 'size_and_fills': '0/7',\n",
       " 'exit_strategy_display_price': '697.40',\n",
       " 'exit_strategy_chart_description': 'Buy 7 Market GTC',\n",
       " 'exit_strategy_tool_availability': '1',\n",
       " 'allowed_duplicate_opposite': True,\n",
       " 'order_time': '210807165126'}"
      ]
     },
     "metadata": {},
     "execution_count": 6
    }
   ],
   "metadata": {}
  },
  {
   "cell_type": "code",
   "execution_count": 8,
   "source": [
    "api.get_live_orders()"
   ],
   "outputs": [
    {
     "output_type": "stream",
     "name": "stderr",
     "text": [
      "/Users/j/Documents/miniforge3/lib/python3.9/site-packages/urllib3/connectionpool.py:1013: InsecureRequestWarning: Unverified HTTPS request is being made to host 'localhost'. Adding certificate verification is strongly advised. See: https://urllib3.readthedocs.io/en/1.26.x/advanced-usage.html#ssl-warnings\n",
      "  warnings.warn(\n"
     ]
    },
    {
     "output_type": "execute_result",
     "data": {
      "text/plain": [
       "{'orders': [{'acct': 'DU2712010',\n",
       "   'conidex': '76792991',\n",
       "   'conid': 76792991,\n",
       "   'orderId': 1258176648,\n",
       "   'cashCcy': 'USD',\n",
       "   'sizeAndFills': '0/6',\n",
       "   'orderDesc': 'Buy 6 Market GTC',\n",
       "   'description1': 'TSLA',\n",
       "   'ticker': 'TSLA',\n",
       "   'secType': 'STK',\n",
       "   'listingExchange': 'NASDAQ.NMS',\n",
       "   'remainingQuantity': 6.0,\n",
       "   'filledQuantity': 0.0,\n",
       "   'companyName': 'TESLA INC',\n",
       "   'status': 'PendingSubmit',\n",
       "   'origOrderType': 'MARKET',\n",
       "   'supportsTaxOpt': '1',\n",
       "   'lastExecutionTime': '210807170939',\n",
       "   'orderType': 'Market',\n",
       "   'bgColor': '#000000',\n",
       "   'fgColor': '#3399CC',\n",
       "   'timeInForce': 'GTC',\n",
       "   'lastExecutionTime_r': 1628356179000,\n",
       "   'side': 'BUY'},\n",
       "  {'acct': 'DU2712010',\n",
       "   'conidex': '76792991',\n",
       "   'conid': 76792991,\n",
       "   'orderId': 1258176646,\n",
       "   'cashCcy': 'USD',\n",
       "   'sizeAndFills': '0/6',\n",
       "   'orderDesc': 'Buy 6 Market GTC',\n",
       "   'description1': 'TSLA',\n",
       "   'ticker': 'TSLA',\n",
       "   'secType': 'STK',\n",
       "   'listingExchange': 'NASDAQ.NMS',\n",
       "   'remainingQuantity': 6.0,\n",
       "   'filledQuantity': 0.0,\n",
       "   'companyName': 'TESLA INC',\n",
       "   'status': 'PendingSubmit',\n",
       "   'origOrderType': 'MARKET',\n",
       "   'supportsTaxOpt': '1',\n",
       "   'lastExecutionTime': '210807162248',\n",
       "   'orderType': 'Market',\n",
       "   'bgColor': '#000000',\n",
       "   'fgColor': '#3399CC',\n",
       "   'timeInForce': 'GTC',\n",
       "   'lastExecutionTime_r': 1628353368000,\n",
       "   'side': 'BUY'},\n",
       "  {'acct': 'DU2712010',\n",
       "   'conidex': '76792991',\n",
       "   'conid': 76792991,\n",
       "   'orderId': 1258176647,\n",
       "   'cashCcy': 'USD',\n",
       "   'sizeAndFills': '0/7',\n",
       "   'orderDesc': 'Buy 7 Market GTC',\n",
       "   'description1': 'TSLA',\n",
       "   'ticker': 'TSLA',\n",
       "   'secType': 'STK',\n",
       "   'listingExchange': 'NASDAQ.NMS',\n",
       "   'remainingQuantity': 6.0,\n",
       "   'filledQuantity': 0.0,\n",
       "   'companyName': 'TESLA INC',\n",
       "   'status': 'PendingSubmit',\n",
       "   'origOrderType': 'MARKET',\n",
       "   'supportsTaxOpt': '1',\n",
       "   'lastExecutionTime': '210807165126',\n",
       "   'orderType': 'Market',\n",
       "   'bgColor': '#000000',\n",
       "   'fgColor': '#3399CC',\n",
       "   'timeInForce': 'GTC',\n",
       "   'lastExecutionTime_r': 1628355086000,\n",
       "   'side': 'BUY'},\n",
       "  {'acct': 'DU2712010',\n",
       "   'conidex': '76792991',\n",
       "   'conid': 76792991,\n",
       "   'orderId': 1258176644,\n",
       "   'cashCcy': 'USD',\n",
       "   'sizeAndFills': '0/7',\n",
       "   'orderDesc': 'Buy 7 Market GTC',\n",
       "   'description1': 'TSLA',\n",
       "   'ticker': 'TSLA',\n",
       "   'secType': 'STK',\n",
       "   'listingExchange': 'NASDAQ.NMS',\n",
       "   'remainingQuantity': 7.0,\n",
       "   'filledQuantity': 0.0,\n",
       "   'companyName': 'TESLA INC',\n",
       "   'status': 'PendingSubmit',\n",
       "   'origOrderType': 'MARKET',\n",
       "   'supportsTaxOpt': '1',\n",
       "   'lastExecutionTime': '210807155957',\n",
       "   'orderType': 'Market',\n",
       "   'bgColor': '#000000',\n",
       "   'fgColor': '#3399CC',\n",
       "   'timeInForce': 'GTC',\n",
       "   'lastExecutionTime_r': 1628351997000,\n",
       "   'side': 'BUY'},\n",
       "  {'acct': 'DU2712010',\n",
       "   'conidex': '76792991',\n",
       "   'conid': 76792991,\n",
       "   'orderId': 1258176645,\n",
       "   'cashCcy': 'USD',\n",
       "   'sizeAndFills': '0/7',\n",
       "   'orderDesc': 'Buy 7 Market GTC',\n",
       "   'description1': 'TSLA',\n",
       "   'ticker': 'TSLA',\n",
       "   'secType': 'STK',\n",
       "   'listingExchange': 'NASDAQ.NMS',\n",
       "   'remainingQuantity': 6.0,\n",
       "   'filledQuantity': 0.0,\n",
       "   'companyName': 'TESLA INC',\n",
       "   'status': 'PendingSubmit',\n",
       "   'origOrderType': 'MARKET',\n",
       "   'supportsTaxOpt': '1',\n",
       "   'lastExecutionTime': '210807160159',\n",
       "   'orderType': 'Market',\n",
       "   'bgColor': '#000000',\n",
       "   'fgColor': '#3399CC',\n",
       "   'timeInForce': 'GTC',\n",
       "   'lastExecutionTime_r': 1628352119000,\n",
       "   'side': 'BUY'},\n",
       "  {'acct': 'DU2712010',\n",
       "   'conidex': '265598',\n",
       "   'conid': 265598,\n",
       "   'orderId': 1258176642,\n",
       "   'cashCcy': 'USD',\n",
       "   'sizeAndFills': '0/2',\n",
       "   'orderDesc': 'Buy 2 Market GTC',\n",
       "   'description1': 'AAPL',\n",
       "   'ticker': 'AAPL',\n",
       "   'secType': 'STK',\n",
       "   'listingExchange': 'NASDAQ.NMS',\n",
       "   'remainingQuantity': 2.0,\n",
       "   'filledQuantity': 0.0,\n",
       "   'companyName': 'APPLE INC',\n",
       "   'status': 'PendingSubmit',\n",
       "   'origOrderType': 'MARKET',\n",
       "   'supportsTaxOpt': '1',\n",
       "   'lastExecutionTime': '210807152956',\n",
       "   'orderType': 'Market',\n",
       "   'bgColor': '#000000',\n",
       "   'fgColor': '#3399CC',\n",
       "   'timeInForce': 'GTC',\n",
       "   'lastExecutionTime_r': 1628350196000,\n",
       "   'side': 'BUY'},\n",
       "  {'acct': 'DU2712010',\n",
       "   'conidex': '265598',\n",
       "   'conid': 265598,\n",
       "   'orderId': 1258176643,\n",
       "   'cashCcy': 'USD',\n",
       "   'sizeAndFills': '0/7',\n",
       "   'orderDesc': 'Buy 7 Market GTC',\n",
       "   'description1': 'AAPL',\n",
       "   'ticker': 'AAPL',\n",
       "   'secType': 'STK',\n",
       "   'listingExchange': 'NASDAQ.NMS',\n",
       "   'remainingQuantity': 1.0,\n",
       "   'filledQuantity': 0.0,\n",
       "   'companyName': 'APPLE INC',\n",
       "   'status': 'PendingSubmit',\n",
       "   'origOrderType': 'MARKET',\n",
       "   'supportsTaxOpt': '1',\n",
       "   'lastExecutionTime': '210807153246',\n",
       "   'orderType': 'Market',\n",
       "   'bgColor': '#000000',\n",
       "   'fgColor': '#3399CC',\n",
       "   'timeInForce': 'GTC',\n",
       "   'lastExecutionTime_r': 1628350366000,\n",
       "   'side': 'BUY'},\n",
       "  {'acct': 'DU2712010',\n",
       "   'conidex': '265598',\n",
       "   'conid': 265598,\n",
       "   'orderId': 1258176641,\n",
       "   'cashCcy': 'USD',\n",
       "   'sizeAndFills': '0/6',\n",
       "   'orderDesc': 'Buy 6 Market GTC',\n",
       "   'description1': 'AAPL',\n",
       "   'ticker': 'AAPL',\n",
       "   'secType': 'STK',\n",
       "   'listingExchange': 'NASDAQ.NMS',\n",
       "   'remainingQuantity': 5.0,\n",
       "   'filledQuantity': 0.0,\n",
       "   'companyName': 'APPLE INC',\n",
       "   'status': 'PendingSubmit',\n",
       "   'origOrderType': 'MARKET',\n",
       "   'supportsTaxOpt': '1',\n",
       "   'lastExecutionTime': '210807150319',\n",
       "   'orderType': 'Market',\n",
       "   'bgColor': '#000000',\n",
       "   'fgColor': '#3399CC',\n",
       "   'timeInForce': 'GTC',\n",
       "   'lastExecutionTime_r': 1628348599000,\n",
       "   'side': 'BUY'}],\n",
       " 'snapshot': True}"
      ]
     },
     "metadata": {},
     "execution_count": 8
    }
   ],
   "metadata": {}
  }
 ],
 "metadata": {
  "interpreter": {
   "hash": "20803286ce42af6b8b7136ca7583d0ed3df9f698f6db7f80a43c87410fef19fd"
  },
  "kernelspec": {
   "display_name": "Python 3 (ipykernel)",
   "language": "python",
   "name": "python3"
  },
  "language_info": {
   "codemirror_mode": {
    "name": "ipython",
    "version": 3
   },
   "file_extension": ".py",
   "mimetype": "text/x-python",
   "name": "python",
   "nbconvert_exporter": "python",
   "pygments_lexer": "ipython3",
   "version": "3.9.6"
  }
 },
 "nbformat": 4,
 "nbformat_minor": 4
}